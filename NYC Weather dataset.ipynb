{
 "cells": [
  {
   "cell_type": "code",
   "execution_count": 18,
   "metadata": {},
   "outputs": [],
   "source": [
    "from keras.models import Sequential\n",
    "from keras.layers import Dense \n",
    "from keras.optimizers import Adam, SGD\n",
    "\n",
    "%matplotlib inline\n",
    "import matplotlib.pyplot as plt\n",
    "import numpy as np\n",
    "import pandas as pd"
   ]
  },
  {
   "cell_type": "code",
   "execution_count": 19,
   "metadata": {},
   "outputs": [
    {
     "data": {
      "text/html": [
       "<div>\n",
       "<style scoped>\n",
       "    .dataframe tbody tr th:only-of-type {\n",
       "        vertical-align: middle;\n",
       "    }\n",
       "\n",
       "    .dataframe tbody tr th {\n",
       "        vertical-align: top;\n",
       "    }\n",
       "\n",
       "    .dataframe thead th {\n",
       "        text-align: right;\n",
       "    }\n",
       "</style>\n",
       "<table border=\"1\" class=\"dataframe\">\n",
       "  <thead>\n",
       "    <tr style=\"text-align: right;\">\n",
       "      <th></th>\n",
       "      <th>EST</th>\n",
       "      <th>Temperature</th>\n",
       "      <th>DewPoint</th>\n",
       "      <th>Humidity</th>\n",
       "      <th>Sea Level PressureIn</th>\n",
       "      <th>VisibilityMiles</th>\n",
       "      <th>WindSpeedMPH</th>\n",
       "      <th>PrecipitationIn</th>\n",
       "      <th>CloudCover</th>\n",
       "      <th>Events</th>\n",
       "      <th>WindDirDegrees</th>\n",
       "    </tr>\n",
       "  </thead>\n",
       "  <tbody>\n",
       "    <tr>\n",
       "      <th>0</th>\n",
       "      <td>1/1/2016</td>\n",
       "      <td>38</td>\n",
       "      <td>23</td>\n",
       "      <td>52</td>\n",
       "      <td>30.03</td>\n",
       "      <td>10</td>\n",
       "      <td>8.0</td>\n",
       "      <td>0</td>\n",
       "      <td>5</td>\n",
       "      <td>NaN</td>\n",
       "      <td>281</td>\n",
       "    </tr>\n",
       "    <tr>\n",
       "      <th>1</th>\n",
       "      <td>1/2/2016</td>\n",
       "      <td>36</td>\n",
       "      <td>18</td>\n",
       "      <td>46</td>\n",
       "      <td>30.02</td>\n",
       "      <td>10</td>\n",
       "      <td>7.0</td>\n",
       "      <td>0</td>\n",
       "      <td>3</td>\n",
       "      <td>NaN</td>\n",
       "      <td>275</td>\n",
       "    </tr>\n",
       "    <tr>\n",
       "      <th>2</th>\n",
       "      <td>1/3/2016</td>\n",
       "      <td>40</td>\n",
       "      <td>21</td>\n",
       "      <td>47</td>\n",
       "      <td>29.86</td>\n",
       "      <td>10</td>\n",
       "      <td>8.0</td>\n",
       "      <td>0</td>\n",
       "      <td>1</td>\n",
       "      <td>NaN</td>\n",
       "      <td>277</td>\n",
       "    </tr>\n",
       "    <tr>\n",
       "      <th>3</th>\n",
       "      <td>1/4/2016</td>\n",
       "      <td>25</td>\n",
       "      <td>9</td>\n",
       "      <td>44</td>\n",
       "      <td>30.05</td>\n",
       "      <td>10</td>\n",
       "      <td>9.0</td>\n",
       "      <td>0</td>\n",
       "      <td>3</td>\n",
       "      <td>NaN</td>\n",
       "      <td>345</td>\n",
       "    </tr>\n",
       "    <tr>\n",
       "      <th>4</th>\n",
       "      <td>1/5/2016</td>\n",
       "      <td>20</td>\n",
       "      <td>-3</td>\n",
       "      <td>41</td>\n",
       "      <td>30.57</td>\n",
       "      <td>10</td>\n",
       "      <td>5.0</td>\n",
       "      <td>0</td>\n",
       "      <td>0</td>\n",
       "      <td>NaN</td>\n",
       "      <td>333</td>\n",
       "    </tr>\n",
       "  </tbody>\n",
       "</table>\n",
       "</div>"
      ],
      "text/plain": [
       "        EST  Temperature  DewPoint  Humidity  Sea Level PressureIn  \\\n",
       "0  1/1/2016           38        23        52                 30.03   \n",
       "1  1/2/2016           36        18        46                 30.02   \n",
       "2  1/3/2016           40        21        47                 29.86   \n",
       "3  1/4/2016           25         9        44                 30.05   \n",
       "4  1/5/2016           20        -3        41                 30.57   \n",
       "\n",
       "   VisibilityMiles  WindSpeedMPH PrecipitationIn  CloudCover Events  \\\n",
       "0               10           8.0               0           5    NaN   \n",
       "1               10           7.0               0           3    NaN   \n",
       "2               10           8.0               0           1    NaN   \n",
       "3               10           9.0               0           3    NaN   \n",
       "4               10           5.0               0           0    NaN   \n",
       "\n",
       "   WindDirDegrees  \n",
       "0             281  \n",
       "1             275  \n",
       "2             277  \n",
       "3             345  \n",
       "4             333  "
      ]
     },
     "execution_count": 19,
     "metadata": {},
     "output_type": "execute_result"
    }
   ],
   "source": [
    "df=pd.read_csv('./nyc_weather.csv')\n",
    "df.head()"
   ]
  },
  {
   "cell_type": "code",
   "execution_count": 20,
   "metadata": {},
   "outputs": [
    {
     "data": {
      "text/plain": [
       "True"
      ]
     },
     "execution_count": 20,
     "metadata": {},
     "output_type": "execute_result"
    }
   ],
   "source": [
    "# Check any value is null\n",
    "df.isnull().values.any()"
   ]
  },
  {
   "cell_type": "code",
   "execution_count": 21,
   "metadata": {},
   "outputs": [
    {
     "data": {
      "text/plain": [
       "25"
      ]
     },
     "execution_count": 21,
     "metadata": {},
     "output_type": "execute_result"
    }
   ],
   "source": [
    "df.isnull().sum().sum()"
   ]
  },
  {
   "cell_type": "code",
   "execution_count": null,
   "metadata": {},
   "outputs": [],
   "source": []
  },
  {
   "cell_type": "code",
   "execution_count": 22,
   "metadata": {},
   "outputs": [],
   "source": [
    "X=df[['Temperature']].values\n",
    "y_true=df[['Humidity']].values"
   ]
  },
  {
   "cell_type": "code",
   "execution_count": 39,
   "metadata": {},
   "outputs": [
    {
     "data": {
      "text/plain": [
       "31"
      ]
     },
     "execution_count": 39,
     "metadata": {},
     "output_type": "execute_result"
    }
   ],
   "source": [
    "X.size\n",
    "y_true.size\n"
   ]
  },
  {
   "cell_type": "code",
   "execution_count": 23,
   "metadata": {},
   "outputs": [],
   "source": [
    "model = Sequential()\n",
    "model.add(Dense(1, input_shape=(1,)))"
   ]
  },
  {
   "cell_type": "code",
   "execution_count": 24,
   "metadata": {},
   "outputs": [
    {
     "name": "stdout",
     "output_type": "stream",
     "text": [
      "_________________________________________________________________\n",
      "Layer (type)                 Output Shape              Param #   \n",
      "=================================================================\n",
      "dense_1 (Dense)              (None, 1)                 2         \n",
      "=================================================================\n",
      "Total params: 2\n",
      "Trainable params: 2\n",
      "Non-trainable params: 0\n",
      "_________________________________________________________________\n"
     ]
    }
   ],
   "source": [
    "model.summary()"
   ]
  },
  {
   "cell_type": "code",
   "execution_count": 25,
   "metadata": {},
   "outputs": [],
   "source": [
    "model.compile(Adam(lr=0.8), 'mean_squared_error')"
   ]
  },
  {
   "cell_type": "code",
   "execution_count": 26,
   "metadata": {},
   "outputs": [
    {
     "name": "stdout",
     "output_type": "stream",
     "text": [
      "Epoch 1/40\n",
      "31/31 [==============================] - 0s 5ms/step - loss: 10815.6738\n",
      "Epoch 2/40\n",
      "31/31 [==============================] - 0s 41us/step - loss: 5637.2095\n",
      "Epoch 3/40\n",
      "31/31 [==============================] - 0s 95us/step - loss: 2217.6714\n",
      "Epoch 4/40\n",
      "31/31 [==============================] - 0s 64us/step - loss: 576.2914\n",
      "Epoch 5/40\n",
      "31/31 [==============================] - 0s 76us/step - loss: 145.9025\n",
      "Epoch 6/40\n",
      "31/31 [==============================] - 0s 74us/step - loss: 699.2688\n",
      "Epoch 7/40\n",
      "31/31 [==============================] - 0s 57us/step - loss: 1608.8533\n",
      "Epoch 8/40\n",
      "31/31 [==============================] - 0s 101us/step - loss: 2304.7893\n",
      "Epoch 9/40\n",
      "31/31 [==============================] - 0s 52us/step - loss: 2549.1060\n",
      "Epoch 10/40\n",
      "31/31 [==============================] - 0s 56us/step - loss: 2332.1572\n",
      "Epoch 11/40\n",
      "31/31 [==============================] - 0s 56us/step - loss: 1810.6094\n",
      "Epoch 12/40\n",
      "31/31 [==============================] - 0s 73us/step - loss: 1183.7483\n",
      "Epoch 13/40\n",
      "31/31 [==============================] - 0s 47us/step - loss: 627.8843\n",
      "Epoch 14/40\n",
      "31/31 [==============================] - 0s 306us/step - loss: 262.2975\n",
      "Epoch 15/40\n",
      "31/31 [==============================] - 0s 51us/step - loss: 133.8637\n",
      "Epoch 16/40\n",
      "31/31 [==============================] - 0s 57us/step - loss: 216.9610\n",
      "Epoch 17/40\n",
      "31/31 [==============================] - 0s 52us/step - loss: 430.1334\n",
      "Epoch 18/40\n",
      "31/31 [==============================] - 0s 48us/step - loss: 667.8536\n",
      "Epoch 19/40\n",
      "31/31 [==============================] - 0s 78us/step - loss: 837.3573\n",
      "Epoch 20/40\n",
      "31/31 [==============================] - 0s 74us/step - loss: 885.9434\n",
      "Epoch 21/40\n",
      "31/31 [==============================] - 0s 49us/step - loss: 809.5326\n",
      "Epoch 22/40\n",
      "31/31 [==============================] - 0s 63us/step - loss: 643.7179\n",
      "Epoch 23/40\n",
      "31/31 [==============================] - 0s 69us/step - loss: 445.0676\n",
      "Epoch 24/40\n",
      "31/31 [==============================] - 0s 68us/step - loss: 270.7234\n",
      "Epoch 25/40\n",
      "31/31 [==============================] - 0s 40us/step - loss: 161.7946\n",
      "Epoch 26/40\n",
      "31/31 [==============================] - 0s 44us/step - loss: 133.7240\n",
      "Epoch 27/40\n",
      "31/31 [==============================] - 0s 40us/step - loss: 175.1616\n",
      "Epoch 28/40\n",
      "31/31 [==============================] - 0s 38us/step - loss: 255.0623\n",
      "Epoch 29/40\n",
      "31/31 [==============================] - 0s 34us/step - loss: 335.3453\n",
      "Epoch 30/40\n",
      "31/31 [==============================] - 0s 46us/step - loss: 384.4151\n",
      "Epoch 31/40\n",
      "31/31 [==============================] - 0s 44us/step - loss: 386.6481\n",
      "Epoch 32/40\n",
      "31/31 [==============================] - 0s 42us/step - loss: 345.0046\n",
      "Epoch 33/40\n",
      "31/31 [==============================] - 0s 50us/step - loss: 276.9742\n",
      "Epoch 34/40\n",
      "31/31 [==============================] - 0s 65us/step - loss: 205.7016\n",
      "Epoch 35/40\n",
      "31/31 [==============================] - 0s 51us/step - loss: 153.6597\n",
      "Epoch 36/40\n",
      "31/31 [==============================] - 0s 56us/step - loss: 132.7515\n",
      "Epoch 37/40\n",
      "31/31 [==============================] - 0s 48us/step - loss: 141.6923\n",
      "Epoch 38/40\n",
      "31/31 [==============================] - 0s 42us/step - loss: 169.8012\n",
      "Epoch 39/40\n",
      "31/31 [==============================] - 0s 48us/step - loss: 201.4733\n",
      "Epoch 40/40\n",
      "31/31 [==============================] - 0s 52us/step - loss: 222.5121\n"
     ]
    },
    {
     "data": {
      "text/plain": [
       "<keras.callbacks.History at 0x7fa37a8c0ef0>"
      ]
     },
     "execution_count": 26,
     "metadata": {},
     "output_type": "execute_result"
    }
   ],
   "source": [
    "model.fit(X,y_true, epochs=40)"
   ]
  },
  {
   "cell_type": "code",
   "execution_count": 27,
   "metadata": {},
   "outputs": [],
   "source": [
    "y_pred=model.predict(X)"
   ]
  },
  {
   "cell_type": "code",
   "execution_count": 28,
   "metadata": {},
   "outputs": [
    {
     "data": {
      "text/plain": [
       "[<matplotlib.lines.Line2D at 0x7fa378418978>]"
      ]
     },
     "execution_count": 28,
     "metadata": {},
     "output_type": "execute_result"
    },
    {
     "data": {
      "image/png": "[encoded data removed]",
      "text/plain": [
       "<Figure size 432x288 with 1 Axes>"
      ]
     },
     "metadata": {
      "needs_background": "light"
     },
     "output_type": "display_data"
    }
   ],
   "source": [
    "df.plot(kind='scatter',\n",
    "       x='Temperature',\n",
    "       y='Humidity', title='Weather')\n",
    "plt.plot(X, y_pred, color='red', linewidth=3)"
   ]
  },
  {
   "cell_type": "code",
   "execution_count": 29,
   "metadata": {},
   "outputs": [],
   "source": [
    "w,b=model.get_weights()"
   ]
  },
  {
   "cell_type": "code",
   "execution_count": 30,
   "metadata": {},
   "outputs": [
    {
     "data": {
      "text/plain": [
       "3.37237"
      ]
     },
     "execution_count": 30,
     "metadata": {},
     "output_type": "execute_result"
    }
   ],
   "source": [
    "b.mean()\n"
   ]
  }
 ],
 "metadata": {
  "kernelspec": {
   "display_name": "Python 3",
   "language": "python",
   "name": "python3"
  },
  "language_info": {
   "codemirror_mode": {
    "name": "ipython",
    "version": 3
   },
   "file_extension": ".py",
   "mimetype": "text/x-python",
   "name": "python",
   "nbconvert_exporter": "python",
   "pygments_lexer": "ipython3",
   "version": "3.6.6"
  }
 },
 "nbformat": 4,
 "nbformat_minor": 2
}
